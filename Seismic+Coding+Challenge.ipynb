{
 "cells": [
  {
   "cell_type": "code",
   "execution_count": 140,
   "metadata": {
    "collapsed": true
   },
   "outputs": [],
   "source": [
    "#imports\n",
    "\n",
    "import numpy as np\n",
    "import pandas as pd\n",
    "import json"
   ]
  },
  {
   "cell_type": "code",
   "execution_count": 141,
   "metadata": {},
   "outputs": [],
   "source": [
    "#Load the json file into pandas dataframe\n",
    "\n",
    "with open('/Users/anitayen/Downloads/Data/json/data01.json') as f:\n",
    "    data = json.load(f)\n",
    "\n",
    "df_data = pd.DataFrame(data)"
   ]
  },
  {
   "cell_type": "code",
   "execution_count": 142,
   "metadata": {},
   "outputs": [
    {
     "data": {
      "text/html": [
       "<div>\n",
       "<style>\n",
       "    .dataframe thead tr:only-child th {\n",
       "        text-align: right;\n",
       "    }\n",
       "\n",
       "    .dataframe thead th {\n",
       "        text-align: left;\n",
       "    }\n",
       "\n",
       "    .dataframe tbody tr th {\n",
       "        vertical-align: top;\n",
       "    }\n",
       "</style>\n",
       "<table border=\"1\" class=\"dataframe\">\n",
       "  <thead>\n",
       "    <tr style=\"text-align: right;\">\n",
       "      <th></th>\n",
       "      <th>Address</th>\n",
       "      <th>BloodType</th>\n",
       "      <th>City</th>\n",
       "      <th>Color</th>\n",
       "      <th>Company</th>\n",
       "      <th>CountryCode</th>\n",
       "      <th>DOB</th>\n",
       "      <th>Email</th>\n",
       "      <th>HeightCM</th>\n",
       "      <th>Id</th>\n",
       "      <th>...</th>\n",
       "      <th>Name</th>\n",
       "      <th>Occupation</th>\n",
       "      <th>Phone</th>\n",
       "      <th>SSN</th>\n",
       "      <th>State</th>\n",
       "      <th>UserName</th>\n",
       "      <th>Vehicle</th>\n",
       "      <th>Website</th>\n",
       "      <th>WeightKG</th>\n",
       "      <th>Zip</th>\n",
       "    </tr>\n",
       "  </thead>\n",
       "  <tbody>\n",
       "    <tr>\n",
       "      <th>0</th>\n",
       "      <td>1941 Pin Oak Drive</td>\n",
       "      <td>O+</td>\n",
       "      <td>Davenport</td>\n",
       "      <td>Blue</td>\n",
       "      <td>Flagg Bros. Shoes</td>\n",
       "      <td>1</td>\n",
       "      <td>February 16, 1992</td>\n",
       "      <td>JosephMYounkin@teleworm.us</td>\n",
       "      <td>168</td>\n",
       "      <td>09093e0f-d2c7-4a8c-a245-c7960f78811b</td>\n",
       "      <td>...</td>\n",
       "      <td>Joseph M. Younkin</td>\n",
       "      <td>Image designer</td>\n",
       "      <td>563-333-3230</td>\n",
       "      <td>484-70-4050</td>\n",
       "      <td>IA</td>\n",
       "      <td>Endind</td>\n",
       "      <td>2001 Toyota Verossa</td>\n",
       "      <td>sikaban.com</td>\n",
       "      <td>104.0</td>\n",
       "      <td>52803</td>\n",
       "    </tr>\n",
       "  </tbody>\n",
       "</table>\n",
       "<p>1 rows × 21 columns</p>\n",
       "</div>"
      ],
      "text/plain": [
       "              Address BloodType       City Color            Company  \\\n",
       "0  1941 Pin Oak Drive        O+  Davenport  Blue  Flagg Bros. Shoes   \n",
       "\n",
       "  CountryCode                DOB                       Email HeightCM  \\\n",
       "0           1  February 16, 1992  JosephMYounkin@teleworm.us      168   \n",
       "\n",
       "                                     Id  ...                 Name  \\\n",
       "0  09093e0f-d2c7-4a8c-a245-c7960f78811b  ...    Joseph M. Younkin   \n",
       "\n",
       "       Occupation         Phone          SSN State UserName  \\\n",
       "0  Image designer  563-333-3230  484-70-4050    IA   Endind   \n",
       "\n",
       "               Vehicle      Website WeightKG    Zip  \n",
       "0  2001 Toyota Verossa  sikaban.com    104.0  52803  \n",
       "\n",
       "[1 rows x 21 columns]"
      ]
     },
     "execution_count": 142,
     "metadata": {},
     "output_type": "execute_result"
    }
   ],
   "source": [
    "df_data"
   ]
  },
  {
   "cell_type": "code",
   "execution_count": 143,
   "metadata": {},
   "outputs": [],
   "source": [
    "#Drop columns that contain PII information (Id, name, address, SSN, \n",
    "#location, email, username, website)\n",
    "\n",
    "#Save obfuscated data in a new dataframe\n",
    "\n",
    "df_obfuscated = df_data.copy()\n",
    "\n",
    "#Drop ID\n",
    "df_data.drop('Id', axis=1, inplace=True)\n",
    "\n",
    "#Drop Name\n",
    "df_data.drop('Name', axis=1, inplace=True)\n",
    "\n",
    "#Drop address \n",
    "df_data.drop('Address', axis=1, inplace=True)\n",
    "\n",
    "#Drop SSN\n",
    "df_data.drop('SSN', axis=1, inplace=True)\n",
    "\n",
    "#Drop Location\n",
    "df_data.drop('Location', axis=1, inplace=True)\n",
    "\n",
    "#Drop Email\n",
    "df_data.drop('Email', axis=1, inplace=True)\n",
    "\n",
    "#Drop username\n",
    "df_data.drop('UserName', axis=1, inplace=True)\n",
    "\n",
    "#Drop Website\n",
    "df_data.drop('Website', axis=1, inplace=True)\n",
    "\n",
    "\n"
   ]
  },
  {
   "cell_type": "code",
   "execution_count": 144,
   "metadata": {},
   "outputs": [
    {
     "data": {
      "text/html": [
       "<div>\n",
       "<style>\n",
       "    .dataframe thead tr:only-child th {\n",
       "        text-align: right;\n",
       "    }\n",
       "\n",
       "    .dataframe thead th {\n",
       "        text-align: left;\n",
       "    }\n",
       "\n",
       "    .dataframe tbody tr th {\n",
       "        vertical-align: top;\n",
       "    }\n",
       "</style>\n",
       "<table border=\"1\" class=\"dataframe\">\n",
       "  <thead>\n",
       "    <tr style=\"text-align: right;\">\n",
       "      <th></th>\n",
       "      <th>BloodType</th>\n",
       "      <th>City</th>\n",
       "      <th>Color</th>\n",
       "      <th>Company</th>\n",
       "      <th>CountryCode</th>\n",
       "      <th>DOB</th>\n",
       "      <th>HeightCM</th>\n",
       "      <th>Occupation</th>\n",
       "      <th>Phone</th>\n",
       "      <th>State</th>\n",
       "      <th>Vehicle</th>\n",
       "      <th>WeightKG</th>\n",
       "      <th>Zip</th>\n",
       "    </tr>\n",
       "  </thead>\n",
       "  <tbody>\n",
       "    <tr>\n",
       "      <th>0</th>\n",
       "      <td>O+</td>\n",
       "      <td>Davenport</td>\n",
       "      <td>Blue</td>\n",
       "      <td>Flagg Bros. Shoes</td>\n",
       "      <td>1</td>\n",
       "      <td>February 16, 1992</td>\n",
       "      <td>168</td>\n",
       "      <td>Image designer</td>\n",
       "      <td>563-333-3230</td>\n",
       "      <td>IA</td>\n",
       "      <td>2001 Toyota Verossa</td>\n",
       "      <td>104.0</td>\n",
       "      <td>52803</td>\n",
       "    </tr>\n",
       "  </tbody>\n",
       "</table>\n",
       "</div>"
      ],
      "text/plain": [
       "  BloodType       City Color            Company CountryCode  \\\n",
       "0        O+  Davenport  Blue  Flagg Bros. Shoes           1   \n",
       "\n",
       "                 DOB HeightCM      Occupation         Phone State  \\\n",
       "0  February 16, 1992      168  Image designer  563-333-3230    IA   \n",
       "\n",
       "               Vehicle WeightKG    Zip  \n",
       "0  2001 Toyota Verossa    104.0  52803  "
      ]
     },
     "execution_count": 144,
     "metadata": {},
     "output_type": "execute_result"
    }
   ],
   "source": [
    "df_data"
   ]
  },
  {
   "cell_type": "code",
   "execution_count": 145,
   "metadata": {},
   "outputs": [],
   "source": [
    "#For phone number, drop last 7 digits and keep area code\n",
    "\n",
    "columns = list(df_data)\n",
    "\n",
    "for phone_num in df_data['Phone']:\n",
    "    new_num = phone_num[0:3]  \n",
    "    df_data['Phone'] = df_data['Phone'].replace(phone_num, new_num)\n"
   ]
  },
  {
   "cell_type": "code",
   "execution_count": 146,
   "metadata": {},
   "outputs": [
    {
     "data": {
      "text/html": [
       "<div>\n",
       "<style>\n",
       "    .dataframe thead tr:only-child th {\n",
       "        text-align: right;\n",
       "    }\n",
       "\n",
       "    .dataframe thead th {\n",
       "        text-align: left;\n",
       "    }\n",
       "\n",
       "    .dataframe tbody tr th {\n",
       "        vertical-align: top;\n",
       "    }\n",
       "</style>\n",
       "<table border=\"1\" class=\"dataframe\">\n",
       "  <thead>\n",
       "    <tr style=\"text-align: right;\">\n",
       "      <th></th>\n",
       "      <th>BloodType</th>\n",
       "      <th>City</th>\n",
       "      <th>Color</th>\n",
       "      <th>Company</th>\n",
       "      <th>CountryCode</th>\n",
       "      <th>DOB</th>\n",
       "      <th>HeightCM</th>\n",
       "      <th>Occupation</th>\n",
       "      <th>Phone</th>\n",
       "      <th>State</th>\n",
       "      <th>Vehicle</th>\n",
       "      <th>WeightKG</th>\n",
       "      <th>Zip</th>\n",
       "    </tr>\n",
       "  </thead>\n",
       "  <tbody>\n",
       "    <tr>\n",
       "      <th>0</th>\n",
       "      <td>O+</td>\n",
       "      <td>Davenport</td>\n",
       "      <td>Blue</td>\n",
       "      <td>Flagg Bros. Shoes</td>\n",
       "      <td>1</td>\n",
       "      <td>February 16, 1992</td>\n",
       "      <td>168</td>\n",
       "      <td>Image designer</td>\n",
       "      <td>563</td>\n",
       "      <td>IA</td>\n",
       "      <td>2001 Toyota Verossa</td>\n",
       "      <td>104.0</td>\n",
       "      <td>52803</td>\n",
       "    </tr>\n",
       "  </tbody>\n",
       "</table>\n",
       "</div>"
      ],
      "text/plain": [
       "  BloodType       City Color            Company CountryCode  \\\n",
       "0        O+  Davenport  Blue  Flagg Bros. Shoes           1   \n",
       "\n",
       "                 DOB HeightCM      Occupation Phone State  \\\n",
       "0  February 16, 1992      168  Image designer   563    IA   \n",
       "\n",
       "               Vehicle WeightKG    Zip  \n",
       "0  2001 Toyota Verossa    104.0  52803  "
      ]
     },
     "execution_count": 146,
     "metadata": {},
     "output_type": "execute_result"
    }
   ],
   "source": [
    "df_data"
   ]
  },
  {
   "cell_type": "code",
   "execution_count": 147,
   "metadata": {},
   "outputs": [],
   "source": [
    "#For zipcode, drop last 2 digits\n",
    "\n",
    "for zip_code in df_data['Zip']:\n",
    "    three_digits = int(str(zip_code)[:3])\n",
    "    df_data['Zip'] = df_data['Zip'].replace(zip_code, three_digits)"
   ]
  },
  {
   "cell_type": "code",
   "execution_count": 148,
   "metadata": {},
   "outputs": [
    {
     "data": {
      "text/html": [
       "<div>\n",
       "<style>\n",
       "    .dataframe thead tr:only-child th {\n",
       "        text-align: right;\n",
       "    }\n",
       "\n",
       "    .dataframe thead th {\n",
       "        text-align: left;\n",
       "    }\n",
       "\n",
       "    .dataframe tbody tr th {\n",
       "        vertical-align: top;\n",
       "    }\n",
       "</style>\n",
       "<table border=\"1\" class=\"dataframe\">\n",
       "  <thead>\n",
       "    <tr style=\"text-align: right;\">\n",
       "      <th></th>\n",
       "      <th>BloodType</th>\n",
       "      <th>City</th>\n",
       "      <th>Color</th>\n",
       "      <th>Company</th>\n",
       "      <th>CountryCode</th>\n",
       "      <th>DOB</th>\n",
       "      <th>HeightCM</th>\n",
       "      <th>Occupation</th>\n",
       "      <th>Phone</th>\n",
       "      <th>State</th>\n",
       "      <th>Vehicle</th>\n",
       "      <th>WeightKG</th>\n",
       "      <th>Zip</th>\n",
       "    </tr>\n",
       "  </thead>\n",
       "  <tbody>\n",
       "    <tr>\n",
       "      <th>0</th>\n",
       "      <td>O+</td>\n",
       "      <td>Davenport</td>\n",
       "      <td>Blue</td>\n",
       "      <td>Flagg Bros. Shoes</td>\n",
       "      <td>1</td>\n",
       "      <td>February 16, 1992</td>\n",
       "      <td>168</td>\n",
       "      <td>Image designer</td>\n",
       "      <td>563</td>\n",
       "      <td>IA</td>\n",
       "      <td>2001 Toyota Verossa</td>\n",
       "      <td>104.0</td>\n",
       "      <td>528</td>\n",
       "    </tr>\n",
       "  </tbody>\n",
       "</table>\n",
       "</div>"
      ],
      "text/plain": [
       "  BloodType       City Color            Company CountryCode  \\\n",
       "0        O+  Davenport  Blue  Flagg Bros. Shoes           1   \n",
       "\n",
       "                 DOB HeightCM      Occupation Phone State  \\\n",
       "0  February 16, 1992      168  Image designer   563    IA   \n",
       "\n",
       "               Vehicle WeightKG  Zip  \n",
       "0  2001 Toyota Verossa    104.0  528  "
      ]
     },
     "execution_count": 148,
     "metadata": {},
     "output_type": "execute_result"
    }
   ],
   "source": [
    "df_data"
   ]
  },
  {
   "cell_type": "code",
   "execution_count": 149,
   "metadata": {},
   "outputs": [
    {
     "data": {
      "text/plain": [
       "'[[\"O+\",\"Davenport\",\"Blue\",\"Flagg Bros. Shoes\",\"1\",\"February 16, 1992\",\"168\",\"Image designer\",\"563\",\"IA\",\"2001 Toyota Verossa\",\"104.0\",528]]'"
      ]
     },
     "execution_count": 149,
     "metadata": {},
     "output_type": "execute_result"
    }
   ],
   "source": [
    "df_data.to_json(orient='values')"
   ]
  },
  {
   "cell_type": "code",
   "execution_count": null,
   "metadata": {
    "collapsed": true
   },
   "outputs": [],
   "source": []
  }
 ],
 "metadata": {
  "kernelspec": {
   "display_name": "Python 3",
   "language": "python",
   "name": "python3"
  },
  "language_info": {
   "codemirror_mode": {
    "name": "ipython",
    "version": 3
   },
   "file_extension": ".py",
   "mimetype": "text/x-python",
   "name": "python",
   "nbconvert_exporter": "python",
   "pygments_lexer": "ipython3",
   "version": "3.6.3"
  }
 },
 "nbformat": 4,
 "nbformat_minor": 2
}
